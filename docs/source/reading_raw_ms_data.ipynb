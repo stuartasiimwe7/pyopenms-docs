{
 "cells": [
  {
   "cell_type": "markdown",
   "metadata": {},
   "source": [
    "# Reading Raw MS Data\n",
    "\n",
    "## `mzML` Files in Memory\n",
    "\n",
    "As discussed in the last section, the most straight forward way to load\n",
    "`mass\n",
    "spectrometry` data is using the :py`~.MzMLFile` class:"
   ],
   "id": "b5e55df2-898d-4dbf-9a38-35882da19aa9"
  },
  {
   "cell_type": "code",
   "execution_count": null,
   "metadata": {},
   "outputs": [],
   "source": [
    "from pyopenms import *\n",
    "from urllib.request import urlretrieve\n",
    "\n",
    "gh = \"https://raw.githubusercontent.com/OpenMS/pyopenms-docs/master\"\n",
    "urlretrieve(gh + \"/src/data/tiny.mzML\", \"test.mzML\")\n",
    "exp = MSExperiment()\n",
    "MzMLFile().load(\"test.mzML\", exp)"
   ],
   "id": "1f9367bd-1844-41a1-9312-9eaa1d05c014"
  },
  {
   "cell_type": "markdown",
   "metadata": {},
   "source": [
    "which will load the content of the \"test.mzML\" file into the `exp`\n",
    "variable of type :py`~.MSExperiment`. We can access the raw data and\n",
    "spectra through:"
   ],
   "id": "48bb6f8a-6b2b-495e-92dd-a1c8ef1e2d34"
  },
  {
   "cell_type": "code",
   "execution_count": null,
   "metadata": {},
   "outputs": [],
   "source": [
    "spectrum_data = exp.getSpectrum(0).get_peaks()\n",
    "chromatogram_data = exp.getChromatogram(0).get_peaks()"
   ],
   "id": "54eb3896-4cc7-442d-a6f2-45c4b3a31557"
  },
  {
   "cell_type": "markdown",
   "metadata": {},
   "source": [
    "Which will allow us to compute on spectra and chromatogram data. We can\n",
    "manipulate the spectra in the file for example as follows:"
   ],
   "id": "c24cb400-4ece-4abb-8ac0-3546fa6bab14"
  },
  {
   "cell_type": "code",
   "execution_count": null,
   "metadata": {},
   "outputs": [],
   "source": [
    "spec = []\n",
    "for s in exp.getSpectra():\n",
    "    if s.getMSLevel() != 1:\n",
    "        spec.append(s)\n",
    "\n",
    "exp.setSpectra(spec)"
   ],
   "id": "dc32293b-9b5b-4a8a-bfbe-3738bf4fed5c"
  },
  {
   "cell_type": "markdown",
   "metadata": {},
   "source": [
    "Which will only keep `MS2` spectra in the :py`~.MSExperiment`. We can\n",
    "then store the modified data structure on disk:"
   ],
   "id": "d38b225a-4141-4b8f-add5-67f006b83850"
  },
  {
   "cell_type": "code",
   "execution_count": null,
   "metadata": {},
   "outputs": [],
   "source": [
    "MzMLFile().store(\"filtered.mzML\", exp)"
   ],
   "id": "017fdf86-1b04-4c71-bfed-f52b745ba1ee"
  },
  {
   "cell_type": "markdown",
   "metadata": {},
   "source": [
    "Putting this together, a small filtering program would look like this:"
   ],
   "id": "8c808795-fc94-4a00-8097-9c8b3d4bd647"
  },
  {
   "cell_type": "code",
   "execution_count": null,
   "metadata": {},
   "outputs": [],
   "source": [
    "\"\"\"\n",
    "Script to read mzML data and filter out all MS1 spectra\n",
    "\"\"\"\n",
    "exp = MSExperiment()\n",
    "MzMLFile().load(\"test.mzML\", exp)\n",
    "\n",
    "spec = []\n",
    "for s in exp.getSpectra():\n",
    "    if s.getMSLevel() != 1:\n",
    "        spec.append(s)\n",
    "\n",
    "exp.setSpectra(spec)\n",
    "\n",
    "MzMLFile().store(\"filtered.mzML\", exp)"
   ],
   "id": "e1fc5eb2-40e5-45a7-824c-6bafcaf6a2ee"
  },
  {
   "cell_type": "markdown",
   "metadata": {},
   "source": [
    "## Indexed `mzML` Files\n",
    "\n",
    "Since pyOpenMS 2.4, you can open, read and inspect files that use the\n",
    "indexedMzML standard. This allows users to read MS data without loading\n",
    "all data into memory:"
   ],
   "id": "e1b8e443-469a-4cc0-9a5b-c1b29320a87b"
  },
  {
   "cell_type": "code",
   "execution_count": null,
   "metadata": {},
   "outputs": [],
   "source": [
    "od_exp = OnDiscMSExperiment()\n",
    "od_exp.openFile(\"test.mzML\")\n",
    "meta_data = od_exp.getMetaData()\n",
    "meta_data.getNrChromatograms()\n",
    "od_exp.getNrChromatograms()\n",
    "\n",
    "# data is not present in meta_data experiment\n",
    "sum(meta_data.getChromatogram(0).get_peaks()[1])  # no data!\n",
    "sum(od_exp.getChromatogram(0).get_peaks()[1])  # data is here!\n",
    "\n",
    "# meta data is present and identical in both data structures:\n",
    "meta_data.getChromatogram(0).getNativeID()  # fast\n",
    "od_exp.getChromatogram(0).getNativeID()  # slow"
   ],
   "id": "9b6deca2-4f17-4481-99d2-d401f19490fa"
  },
  {
   "cell_type": "markdown",
   "metadata": {},
   "source": [
    "Note that the :py`~.OnDiscMSExperiment` allows users to access meta data\n",
    "through the :py`~.OnDiscMSExperiment.getMetaData` function, which allows\n",
    "easy selection and filtering on meta data attributes (such as MS level,\n",
    "precursor m/z, retention time etc.) in order to select spectra and\n",
    "chromatograms for analysis. Only once selection on the meta data has\n",
    "been performed, will actual data be loaded into memory using the\n",
    ":py`~.OnDiscMSExperiment.getChromatogram` and\n",
    ":py`~.OnDiscMSExperiment.getSpectrum` functions.\n",
    "\n",
    "This approach is memory efficient in cases where computation should only\n",
    "occur on part of the data or the whole data may not fit into memory.\n",
    "\n",
    "## `mzML` Files as Streams\n",
    "\n",
    "In some instances it is impossible or inconvenient to load all data from\n",
    "an mzML file directly into memory. OpenMS offers streaming-based access\n",
    "to mass spectrometric data which uses a callback object that receives\n",
    "spectra and chromatograms as they are read from the disk. A simple\n",
    "implementation could look like"
   ],
   "id": "06dda3be-5e6d-4bba-a8f0-0f3aaf4ddbca"
  },
  {
   "cell_type": "code",
   "execution_count": null,
   "metadata": {},
   "outputs": [],
   "source": [
    "class MSCallback:\n",
    "    def setExperimentalSettings(self, s):\n",
    "        pass\n",
    "\n",
    "    def setExpectedSize(self, a, b):\n",
    "        pass\n",
    "\n",
    "    def consumeChromatogram(self, c):\n",
    "        print(\"Read a chromatogram\")\n",
    "\n",
    "    def consumeSpectrum(self, s):\n",
    "        print(\"Read a spectrum\")"
   ],
   "id": "84648c4a-c246-4b00-871e-a5d5e7b1b85c"
  },
  {
   "cell_type": "markdown",
   "metadata": {},
   "source": [
    "which can the be used as follows:\n",
    "\n",
    "``` output\n",
    "filename = b\"test.mzML\"\n",
    "consumer = MSCallback()\n",
    "MzMLFile().transform(filename, consumer)\n",
    "Read a spectrum\n",
    "Read a spectrum\n",
    "Read a spectrum\n",
    "Read a spectrum\n",
    "Read a chromatogram\n",
    "Read a chromatogram\n",
    "```\n",
    "\n",
    "which provides an intuition on how the callback object works: whenever a\n",
    "spectrum or chromatogram is read from disk, the function\n",
    "`consumeSpectrum` or `consumeChromatogram` is called and a specific\n",
    "action is performed. We can use this to implement a simple filtering\n",
    "function for mass spectra:\n",
    "\n",
    "``` output\n",
    "class FilteringConsumer():\n",
    "    \"\"\"\n",
    "    Consumer that forwards all calls the internal consumer (after\n",
    "    filtering)\n",
    "    \"\"\"\n",
    "\n",
    "    def __init__(self, consumer, filter_string):\n",
    "        self._internal_consumer = consumer\n",
    "        self.filter_string = filter_string\n",
    "\n",
    "    def setExperimentalSettings(self, s):\n",
    "        self._internal_consumer.setExperimentalSettings(s)\n",
    "\n",
    "    def setExpectedSize(self, a, b):\n",
    "        self._internal_consumer.setExpectedSize(a, b)\n",
    "\n",
    "    def consumeChromatogram(self, c):\n",
    "        if c.getNativeID().find(self.filter_string) != -1:\n",
    "            self._internal_consumer.consumeChromatogram(c)\n",
    "\n",
    "    def consumeSpectrum(self, s):\n",
    "        if s.getNativeID().find(self.filter_string) != -1:\n",
    "            self._internal_consumer.consumeSpectrum(s)\n",
    "\n",
    "###################################\n",
    "filter_string = \"DECOY\"\n",
    "inputfile = \"in.mzML\"\n",
    "outputfile = \"out.mzML\"\n",
    "###################################\n",
    "\n",
    "consumer = PlainMSDataWritingConsumer(outputfile)\n",
    "consumer = FilteringConsumer(consumer, filter_string)\n",
    "\n",
    "MzMLFile().transform(inputfile, consumer)\n",
    "```\n",
    "\n",
    "where the spectra and chromatograms are filtered by their native ids. It\n",
    "is similarly trivial to implement filtering by other attributes. Note\n",
    "how the data are written to disk using the\n",
    ":py`~.PlainMSDataWritingConsumer` which is one of multiple available\n",
    "consumer classes -- this specific class will simply take the spectrum\n",
    "`s` or chromatogram `c` and write it to disk (the location of the output\n",
    "file is given by the `outfile` variable).\n",
    "\n",
    "Note that this approach is memory efficient in cases where computation\n",
    "should only occur on part of the data or the whole data may not fit into\n",
    "memory.\n",
    "\n",
    "## Cached `mzML` Files\n",
    "\n",
    "In addition, since pyOpenMS 2.4 the user can efficiently cache `mzML`\n",
    "files to disk which provides very fast access with minimal overhead in\n",
    "memory. Basically the data directly mapped into memory when requested.\n",
    "You can use this feature as follows:"
   ],
   "id": "265f82ac-bf40-4178-a208-0815938e9622"
  },
  {
   "cell_type": "code",
   "execution_count": null,
   "metadata": {},
   "outputs": [],
   "source": [
    "# First load data and cache to disk\n",
    "exp = MSExperiment()\n",
    "MzMLFile().load(\"test.mzML\", exp)\n",
    "CachedmzML.store(\"myCache.mzML\", exp)\n",
    "\n",
    "# Now load data\n",
    "cfile = CachedmzML()\n",
    "CachedmzML.load(\"myCache.mzML\", cfile)\n",
    "\n",
    "meta_data = cfile.getMetaData()\n",
    "cfile.getNrChromatograms()\n",
    "cfile.getNrSpectra()\n",
    "\n",
    "# data is not present in meta_data experiment\n",
    "sum(meta_data.getChromatogram(0).get_peaks()[1])  # no data!\n",
    "sum(cfile.getChromatogram(0).get_peaks()[1])  # data is here!\n",
    "\n",
    "# meta data is present and identical in both data structures:\n",
    "meta_data.getChromatogram(0).getNativeID()  # fast\n",
    "cfile.getChromatogram(0).getNativeID()  # slow"
   ],
   "id": "cf5367a0-c875-40ee-b571-aeec4c838194"
  },
  {
   "cell_type": "markdown",
   "metadata": {},
   "source": [
    "Note that the :py`~.CachedmzML` allows users to access meta data through\n",
    "the :py`~.CachedmzML.getMetaData` function, which allows easy selection\n",
    "and filtering on meta data attributes (such as MS level, precursor m/z,\n",
    "retention time etc.) in order to select spectra and chromatograms for\n",
    "analysis. Only once selection on the meta data has been performed, will\n",
    "actual data be loaded into memory using the\n",
    ":py`~.CachedmzML.getChromatogram` and :py`~.CachedmzML.getSpectrum`\n",
    "functions.\n",
    "\n",
    "Note that in the example above all data is loaded into memory first and\n",
    "then cached to disk. This is not very efficient and we can use the\n",
    ":py`~.MSDataCachedConsumer` to directly cache to disk (without loading\n",
    "any data into memory):"
   ],
   "id": "ed349c97-20e1-4768-822b-f401ab45cc59"
  },
  {
   "cell_type": "code",
   "execution_count": null,
   "metadata": {},
   "outputs": [],
   "source": [
    "# First cache to disk\n",
    "# Note: writing meta data to myCache2.mzML is required\n",
    "cacher = MSDataCachedConsumer(\"myCache2.mzML.cached\")\n",
    "exp = MSExperiment()\n",
    "MzMLFile().transform(b\"test.mzML\", cacher, exp)\n",
    "CachedMzMLHandler().writeMetadata(exp, \"myCache2.mzML\")\n",
    "del cacher\n",
    "\n",
    "# Now load data\n",
    "cfile = CachedmzML()\n",
    "CachedmzML.load(\"myCache2.mzML\", cfile)\n",
    "\n",
    "meta_data = cfile.getMetaData()\n",
    "# data is not present in meta_data experiment\n",
    "sum(meta_data.getChromatogram(0).get_peaks()[1])  # no data!\n",
    "sum(cfile.getChromatogram(0).get_peaks()[1])  # data is here!"
   ],
   "id": "b1b36f05-54b9-4e8e-953c-7e50c784386f"
  },
  {
   "cell_type": "markdown",
   "metadata": {},
   "source": [
    "This approach is now memory efficient in cases where computation should\n",
    "only occur on part of the data or the whole data may not fit into\n",
    "memory."
   ],
   "id": "759b7811-942b-49c6-b032-092917bf3bd0"
  }
 ],
 "nbformat": 4,
 "nbformat_minor": 5,
 "metadata": {}
}
