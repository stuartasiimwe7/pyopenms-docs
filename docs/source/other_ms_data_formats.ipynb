{
 "cells": [
  {
   "cell_type": "markdown",
   "metadata": {},
   "source": [
    "# Other MS Data Formats\n",
    "\n",
    "## Identification Data (idXML, mzIdentML, pepXML, protXML)\n",
    "\n",
    "You can store and load identification data from an <span\n",
    "class=\"title-ref\">idXML</span> file as follows:"
   ],
   "id": "2c91db88-e9cc-412d-9b2f-f7e38970cdda"
  },
  {
   "cell_type": "code",
   "execution_count": null,
   "metadata": {
    "linenos": ""
   },
   "outputs": [],
   "source": [
    "from urllib.request import urlretrieve\n",
    "from pyopenms import *\n",
    "\n",
    "gh = gh = \"https://raw.githubusercontent.com/OpenMS/pyopenms-docs/master\"\n",
    "urlretrieve(gh + \"/src/data/IdXMLFile_whole.idXML\", \"test.idXML\")\n",
    "protein_ids = []\n",
    "peptide_ids = []\n",
    "IdXMLFile().load(\"test.idXML\", protein_ids, peptide_ids)\n",
    "IdXMLFile().store(\"test.out.idXML\", protein_ids, peptide_ids)"
   ],
   "id": "efb733bc-280e-48ac-b121-3175af2a2686"
  },
  {
   "cell_type": "markdown",
   "metadata": {},
   "source": [
    "You can store and load identification data from an <span\n",
    "class=\"title-ref\">mzIdentML</span> file as follows:"
   ],
   "id": "abdb1ca1-376a-45b7-a6ff-e8a4bbe49751"
  },
  {
   "cell_type": "code",
   "execution_count": null,
   "metadata": {
    "linenos": ""
   },
   "outputs": [],
   "source": [
    "from urllib.request import urlretrieve\n",
    "\n",
    "gh = gh = \"https://raw.githubusercontent.com/OpenMS/pyopenms-docs/master\"\n",
    "urlretrieve(gh + \"/src/data/MzIdentML_3runs.mzid\", \"test.mzid\")\n",
    "protein_ids = []\n",
    "peptide_ids = []\n",
    "MzIdentMLFile().load(\"test.mzid\", protein_ids, peptide_ids)\n",
    "MzIdentMLFile().store(\"test.out.mzid\", protein_ids, peptide_ids)"
   ],
   "id": "52296edd-148e-4d07-a976-2166b0b6225f"
  },
  {
   "cell_type": "markdown",
   "metadata": {},
   "source": [
    "You can store and load identification data from a TPP <span\n",
    "class=\"title-ref\">pepXML</span> file as follows:"
   ],
   "id": "e4cde4ea-9dbc-4944-a846-223192ed655b"
  },
  {
   "cell_type": "code",
   "execution_count": null,
   "metadata": {
    "linenos": ""
   },
   "outputs": [],
   "source": [
    "from urllib.request import urlretrieve\n",
    "\n",
    "gh = gh = \"https://raw.githubusercontent.com/OpenMS/pyopenms-docs/master\"\n",
    "urlretrieve(gh + \"/src/data/PepXMLFile_test.pepxml\", \"test.pepxml\")\n",
    "protein_ids = []\n",
    "peptide_ids = []\n",
    "PepXMLFile().load(\"test.pepxml\", protein_ids, peptide_ids)\n",
    "PepXMLFile().store(\"test.out.pepxml\", protein_ids, peptide_ids)"
   ],
   "id": "70eff496-77dd-429c-9c79-846ef346b40c"
  },
  {
   "cell_type": "markdown",
   "metadata": {},
   "source": [
    "You can load (storing is not supported) identification data from a TPP\n",
    "<span class=\"title-ref\">protXML</span> file as follows:"
   ],
   "id": "75c4af00-3ee7-455d-b640-54d3e2eb65eb"
  },
  {
   "cell_type": "code",
   "execution_count": null,
   "metadata": {
    "linenos": ""
   },
   "outputs": [],
   "source": [
    "from urllib.request import urlretrieve\n",
    "\n",
    "gh = gh = \"https://raw.githubusercontent.com/OpenMS/pyopenms-docs/master\"\n",
    "urlretrieve(gh + \"/src/data/ProtXMLFile_input_1.protXML\", \"test.protXML\")\n",
    "protein_ids = ProteinIdentification()\n",
    "peptide_ids = PeptideIdentification()\n",
    "ProtXMLFile().load(\"test.protXML\", protein_ids, peptide_ids)\n",
    "# storing protein XML file is not yet supported"
   ],
   "id": "90e4d882-639f-4be0-bcec-82d89fc4ab09"
  },
  {
   "cell_type": "markdown",
   "metadata": {},
   "source": [
    "Note how each data file produces two vectors of type\n",
    ":py`~.ProteinIdentification` and :py`~.PeptideIdentification` which also\n",
    "means that conversion between two data types is trivial: load data from\n",
    "one data file and use the storage function of the other file.\n",
    "\n",
    "## Quantiative Data (featureXML, consensusXML)\n",
    "\n",
    "OpenMS stores quantitative information in the internal `featureXML` and\n",
    "`consensusXML` attributes. The `featureXML` format is used to store\n",
    "quantitative data from a single `LC-MS/MS` run while the `consensusXML`\n",
    "is used to store quantitative data from multiple `LC-MS/MS` runs. These\n",
    "can be accessed as follows:"
   ],
   "id": "2eab4242-34f9-46b4-95c6-02ebebe4eede"
  },
  {
   "cell_type": "code",
   "execution_count": null,
   "metadata": {
    "linenos": ""
   },
   "outputs": [],
   "source": [
    "from urllib.request import urlretrieve\n",
    "\n",
    "gh = gh = \"https://raw.githubusercontent.com/OpenMS/pyopenms-docs/master\"\n",
    "urlretrieve(\n",
    "    gh + \"/src/data/FeatureFinderCentroided_1_output.featureXML\",\n",
    "    \"test.featureXML\",\n",
    ")\n",
    "features = FeatureMap()\n",
    "FeatureXMLFile().load(\"test.featureXML\", features)\n",
    "FeatureXMLFile().store(\"test.out.featureXML\", features)"
   ],
   "id": "6f1ab320-776e-43a5-b789-f1dbd7e32c15"
  },
  {
   "cell_type": "markdown",
   "metadata": {},
   "source": [
    "and for `consensusXML`"
   ],
   "id": "dcca965d-ed51-4ea2-acc4-bb53ed71df37"
  },
  {
   "cell_type": "code",
   "execution_count": null,
   "metadata": {
    "linenos": ""
   },
   "outputs": [],
   "source": [
    "from urllib.request import urlretrieve\n",
    "\n",
    "gh = gh = \"https://raw.githubusercontent.com/OpenMS/pyopenms-docs/master\"\n",
    "urlretrieve(\n",
    "    gh + \"/src/data/ConsensusXMLFile_1.consensusXML\", \"test.consensusXML\"\n",
    ")\n",
    "consensus_features = ConsensusMap()\n",
    "ConsensusXMLFile().load(\"test.consensusXML\", consensus_features)\n",
    "ConsensusXMLFile().store(\"test.out.consensusXML\", consensus_features)"
   ],
   "id": "1711d0cc-9e22-44ef-8866-9d4ab7048a91"
  },
  {
   "cell_type": "markdown",
   "metadata": {},
   "source": [
    "## Transition data (TraML)\n",
    "\n",
    "The TraML data format allows you to store transition information for\n",
    "targeted experiments (`SRM` / MRM / PRM / DIA)."
   ],
   "id": "d552472d-49b6-4810-a8c7-ff77f2574fdd"
  },
  {
   "cell_type": "code",
   "execution_count": null,
   "metadata": {
    "linenos": ""
   },
   "outputs": [],
   "source": [
    "from urllib.request import urlretrieve\n",
    "\n",
    "gh = \"https://raw.githubusercontent.com/OpenMS/pyopenms-extra/master\"\n",
    "urlretrieve(gh + \"/src/data/ConvertTSVToTraML_output.TraML\", \"test.TraML\")\n",
    "targeted_exp = TargetedExperiment()\n",
    "TraMLFile().load(\"test.TraML\", targeted_exp)\n",
    "TraMLFile().store(\"test.out.TraML\", targeted_exp)"
   ],
   "id": "542f37f0-a1d3-49ad-bc6d-5d7c142c9036"
  }
 ],
 "nbformat": 4,
 "nbformat_minor": 5,
 "metadata": {}
}
