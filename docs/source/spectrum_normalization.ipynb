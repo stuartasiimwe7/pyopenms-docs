{
 "cells": [
  {
   "cell_type": "markdown",
   "metadata": {},
   "source": [
    "# Spectrum Normalization\n",
    "\n",
    "Another very basic mass spectrum processing step is normalization by\n",
    "base peak intensity (the maximum intensity of a mass spectrum).\n",
    "\n",
    "Let's first load the raw data."
   ],
   "id": "06ad13ac-129e-45ed-ba9a-d8258a17971b"
  },
  {
   "cell_type": "code",
   "execution_count": null,
   "metadata": {
    "linenos": ""
   },
   "outputs": [],
   "source": [
    "from urllib.request import urlretrieve\n",
    "from pyopenms import *\n",
    "import matplotlib.pyplot as plt\n",
    "\n",
    "gh = \"https://raw.githubusercontent.com/OpenMS/pyopenms-docs/master\"\n",
    "urlretrieve(\n",
    "    gh + \"/src/data/peakpicker_tutorial_1_baseline_filtered.mzML\",\n",
    "    \"tutorial.mzML\",\n",
    ")\n",
    "exp = MSExperiment()\n",
    "MzMLFile().load(\"tutorial.mzML\", exp)\n",
    "plt.bar(\n",
    "    exp.getSpectrum(0).get_peaks()[0],\n",
    "    exp.getSpectrum(0).get_peaks()[1],\n",
    "    snap=False,\n",
    ")"
   ],
   "id": "c0125ae5-9df1-4fdd-afbd-6739cae50789"
  },
  {
   "cell_type": "markdown",
   "metadata": {},
   "source": [
    "Now we apply the normalization."
   ],
   "id": "87e1b03b-cdda-4b69-b32f-089c10851cb7"
  },
  {
   "cell_type": "code",
   "execution_count": null,
   "metadata": {
    "linenos": ""
   },
   "outputs": [],
   "source": [
    "normalizer = Normalizer()\n",
    "param = normalizer.getParameters()\n",
    "param.setValue(\"method\", \"to_one\")\n",
    "normalizer.setParameters(param)\n",
    "\n",
    "normalizer.filterPeakMap(exp)\n",
    "plt.bar(\n",
    "    exp.getSpectrum(0).get_peaks()[0],\n",
    "    exp.getSpectrum(0).get_peaks()[1],\n",
    "    snap=False,\n",
    ")"
   ],
   "id": "9ce891b4-47b4-4543-8caa-36e152f4c148"
  },
  {
   "cell_type": "markdown",
   "metadata": {},
   "source": [
    "Another way of normalizing is by TIC (total ion count) of the mass\n",
    "spectrum, which scales intensities so they add up to $1.0$ in each mass\n",
    "spectrum. Try it out for yourself by setting:\n",
    "`param.setValue(\"method\", \"to_TIC\")`."
   ],
   "id": "2d1af63f-5ad8-41a7-b447-e880a9c13bc4"
  }
 ],
 "nbformat": 4,
 "nbformat_minor": 5,
 "metadata": {}
}
