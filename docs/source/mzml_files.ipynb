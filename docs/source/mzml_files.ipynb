{
 "cells": [
  {
   "cell_type": "markdown",
   "metadata": {},
   "source": [
    "# `mzML` Files\n",
    "\n",
    "<div style=\"background-color: #BDE5F8; margin: 10px 0px; padding:12px;\"><p style=\"font-size: x-large\"><i class=\"far fa-sticky-note\"></i> <b>Note</b></p>\n",
    "\n",
    "This is an advanced section that dives deep into the `mzML` format and\n",
    "we will investigate the file format in greater detail. The intricacies\n",
    "of the `mzML` file format are all handled by pyOpenMS internally and\n",
    "this section is only intended for the interested reader\n",
    "\n",
    "</div>\n",
    "\n",
    "Specifically, we will look at `mzML` stores raw spectral data and how\n",
    "this data is encoded in the XML format. The `mzML` standard is developed\n",
    "by the HUPO-PSI committee and can be read on the [official mzML\n",
    "website](http://www.psidev.info/mzML). It describes how to store the\n",
    "meta data and the raw data for spectra and chromatograms. In short, the\n",
    "standard uses XML to encode all meta data and stores the raw data using\n",
    "[Base64 encoding](https://en.wikipedia.org/wiki/Base64).\n",
    "\n",
    "## Binary Encoding\n",
    "\n",
    "`To proceed <Binary encoding (mzML)>`, we will download an example file:"
   ],
   "id": "a34ec573-2537-4d74-91d0-3e72559d9b34"
  },
  {
   "cell_type": "code",
   "execution_count": null,
   "metadata": {
    "linenos": ""
   },
   "outputs": [],
   "source": [
    "from pyopenms import *\n",
    "from urllib.request import urlretrieve\n",
    "\n",
    "gh = \"https://raw.githubusercontent.com/OpenMS/pyopenms-docs/master\"\n",
    "urlretrieve(gh + \"/src/data/tiny.mzML\", \"test.mzML\")"
   ],
   "id": "66cfbb69-956f-4c53-b1e0-7dffd4b5ef6c"
  },
  {
   "cell_type": "markdown",
   "metadata": {},
   "source": [
    "Let's investigate the file `test.mzML` and look at line 197:"
   ],
   "id": "e83e39f9-fe76-4385-9b88-655a0672a8e6"
  },
  {
   "cell_type": "code",
   "execution_count": null,
   "metadata": {
    "linenos": ""
   },
   "outputs": [],
   "source": [
    "print(open(\"test.mzML\").readlines()[197].strip())"
   ],
   "id": "c750f9cf-942a-4c98-8675-3e9ea8b5ba6a"
  },
  {
   "cell_type": "markdown",
   "metadata": {},
   "source": [
    "``` output\n",
    "<binary>AAAAAAAAAAAAAAAAAAAAQAAAAAAAABBAAAAAAAAAGEAAAAAAAAAgQAAAAAAAACRAAAAAAAAAKEAAAAAAAAAsQAAAAAAAADBAAAAAAAAAMkA=</binary>\n",
    "```\n",
    "\n",
    "We see that line 197 in the `test.mzML` file contains the `binary` XML\n",
    "tag that contains a long datastring that starts with `AAAAA` and ends\n",
    "with `AAMkA=`. This is the raw spectrum data encoded using\n",
    "[Base64](https://en.wikipedia.org/wiki/Base64). We can confirm this by\n",
    "looking at some more context (lines 193 to 199 of the file):"
   ],
   "id": "a4c93690-5ec4-4ba3-841f-59e2478946b0"
  },
  {
   "cell_type": "code",
   "execution_count": null,
   "metadata": {
    "linenos": ""
   },
   "outputs": [],
   "source": [
    "print(\"\".join(open(\"test.mzML\").readlines()[193:199]))"
   ],
   "id": "5a900017-8d5c-4215-9adb-57d1dd152838"
  },
  {
   "cell_type": "markdown",
   "metadata": {},
   "source": [
    "``` output\n",
    "<binaryDataArray encodedLength=\"108\" dataProcessingRef=\"CompassXtract_x0020_processing\">\n",
    "  <cvParam cvRef=\"MS\" accession=\"MS:1000523\" name=\"64-bit float\" value=\"\"/>\n",
    "  <cvParam cvRef=\"MS\" accession=\"MS:1000576\" name=\"no compression\" value=\"\"/>\n",
    "  <cvParam cvRef=\"MS\" accession=\"MS:1000514\" name=\"m/z array\" value=\"\" unitCvRef=\"MS\" unitAccession=\"MS:1000040\" unitName=\"m/z\"/>\n",
    "  <binary>AAAAAAAAAAAAAAAAAAAAQAAAAAAAABBAAAAAAAAAGEAAAAAAAAAgQAAAAAAAACRAAAAAAAAAKEAAAAAAAAAsQAAAAAAAADBAAAAAAAAAMkA=</binary>\n",
    "</binaryDataArray>\n",
    "```\n",
    "\n",
    "We can now see that the surrounding XML tags describe how to decode the\n",
    "data, namely we see that the data is describes the m/z array and is\n",
    "uncompressed 64 bit data. We can now open the file with pyOpenMS and\n",
    "print the corresponding array which is from the second spectrum in the\n",
    "file:"
   ],
   "id": "68aa44d7-cfd4-4310-a6d1-d2558c449528"
  },
  {
   "cell_type": "code",
   "execution_count": null,
   "metadata": {
    "linenos": ""
   },
   "outputs": [],
   "source": [
    "exp = MSExperiment()\n",
    "MzMLFile().load(\"test.mzML\", exp)\n",
    "\n",
    "print(exp.getSpectrum(1).get_peaks()[0])"
   ],
   "id": "cb0b7c0a-2fb9-4940-a130-3666180cd1ed"
  },
  {
   "cell_type": "markdown",
   "metadata": {},
   "source": [
    "``` output\n",
    "[ 0.  2.  4.  6.  8. 10. 12. 14. 16. 18.]\n",
    "```\n",
    "\n",
    "We now see that the data encoded describes 10 m/z data points that are\n",
    "equally spaced in intervals of two, starting from 0 m/z and ending at 18\n",
    "m/z (note: this is a synthetic dataset).\n",
    "\n",
    "## Base64 Encoding\n",
    "\n",
    "From the `mzML` standard, we know that the array is `base64 <Base64\n",
    "encoding>` encoded and we can now try to decode this data ourselves. We\n",
    "will first use pure Python functions :"
   ],
   "id": "d99fa2cf-04a3-45a6-b867-7c8c50f782ea"
  },
  {
   "cell_type": "code",
   "execution_count": null,
   "metadata": {
    "linenos": ""
   },
   "outputs": [],
   "source": [
    "encoded_data = (\n",
    "    b\"AAAAAAAAAAAAAAAAAAAAQAAAAAAAABBAAAAAAAAAGEAAAAAAAAAgQ\"\n",
    "    + b\"AAAAAAAACRAAAAAAAAAKEAAAAAAAAAsQAAAAAAAADBAAAAAAAAAMkA=\"\n",
    ")\n",
    "\n",
    "import base64, struct\n",
    "\n",
    "raw_data = base64.decodebytes(encoded_data)\n",
    "out = struct.unpack(\"<%sd\" % (len(raw_data) // 8), raw_data)\n",
    "# struct.unpack('<%sf' % (len(raw_data) // 4), raw_data) # for 32 bit data\n",
    "print(out)"
   ],
   "id": "a133affe-391a-4161-a57d-c9269cb97db6"
  },
  {
   "cell_type": "markdown",
   "metadata": {},
   "source": [
    "``` output\n",
    "(0.0, 2.0, 4.0, 6.0, 8.0, 10.0, 12.0, 14.0, 16.0, 18.0)\n",
    "```\n",
    "\n",
    "The code above uses the `base64` package on line 5 to decode the encoded\n",
    "data to raw binary data. On line 6, we use the `struct` package to\n",
    "transform the raw binary data to 64-bit floating point values. Note that\n",
    "`<%sd` is used for 64 bit data and `<%sf` for 32 bit data.\n",
    "\n",
    "Alternatively, we could also use pyOpenMS to decode the same data:"
   ],
   "id": "83040056-de28-48ae-9413-a0c5993004f3"
  },
  {
   "cell_type": "code",
   "execution_count": null,
   "metadata": {
    "linenos": ""
   },
   "outputs": [],
   "source": [
    "encoded_data = (\n",
    "    b\"AAAAAAAAAAAAAAAAAAAAQAAAAAAAABBAAAAAAAAAGEAAAAAAAAAgQ\"\n",
    "    + b\"AAAAAAAACRAAAAAAAAAKEAAAAAAAAAsQAAAAAAAADBAAAAAAAAAMkA=\"\n",
    ")\n",
    "\n",
    "out = []\n",
    "Base64().decode64(\n",
    "    encoded_data, Base64.ByteOrder.BYTEORDER_LITTLEENDIAN, out, False\n",
    ")\n",
    "print(out)"
   ],
   "id": "40feb072-2c24-4382-959d-59c9b55a0d28"
  },
  {
   "cell_type": "markdown",
   "metadata": {},
   "source": [
    "``` output\n",
    "[0.0, 2.0, 4.0, 6.0, 8.0, 10.0, 12.0, 14.0, 16.0, 18.0]\n",
    "```\n",
    "\n",
    "This allows us thus to manually decode the data. We can use pyOpenMS to\n",
    "encode and decode 32 and 64 bit values:"
   ],
   "id": "139f0a6b-1980-4072-bed7-f1de8c294005"
  },
  {
   "cell_type": "code",
   "execution_count": null,
   "metadata": {
    "linenos": ""
   },
   "outputs": [],
   "source": [
    "encoded_data = (\n",
    "    b\"AAAAAAAAAAAAAAAAAAAAQAAAAAAAABBAAAAAAAAAGEAAAAAAAAAgQ\"\n",
    "    + b\"AAAAAAAACRAAAAAAAAAKEAAAAAAAAAsQAAAAAAAADBAAAAAAAAAMkA=\"\n",
    ")\n",
    "\n",
    "out = []\n",
    "Base64().decode64(\n",
    "    encoded_data, Base64.ByteOrder.BYTEORDER_LITTLEENDIAN, out, False\n",
    ")\n",
    "print(out)\n",
    "\n",
    "data = String()\n",
    "Base64().encode64(out, Base64.ByteOrder.BYTEORDER_LITTLEENDIAN, data, False)\n",
    "print(data)\n",
    "\n",
    "Base64().encode64(out, Base64.ByteOrder.BYTEORDER_LITTLEENDIAN, data, True)\n",
    "print(data)\n",
    "\n",
    "data = String()\n",
    "Base64().encode32(out, Base64.ByteOrder.BYTEORDER_LITTLEENDIAN, data, False)\n",
    "print(data)\n",
    "\n",
    "Base64().encode32(out, Base64.ByteOrder.BYTEORDER_LITTLEENDIAN, data, True)\n",
    "print(data)"
   ],
   "id": "554a6202-e24b-4665-8e10-3bd4e3ec7389"
  },
  {
   "cell_type": "markdown",
   "metadata": {},
   "source": [
    "``` output\n",
    "[0.0, 2.0, 4.0, 6.0, 8.0, 10.0, 12.0, 14.0, 16.0, 18.0]\n",
    "b'AAAAAAAAAAAAAAAAAAAAQAAAAAAAABBAAAAAAAAAGEAAAAAAAAAgQAAAAAAAACRAAAAAAAAAKEAAAAAAAAAsQAAAAAAAADBAAAAAAAAAMkA='\n",
    "b'eJxjYEABDhBKAEpLQGkFKK0CpTWgtA6UNoDSRg4AZlQDYw=='\n",
    "b'AAAAAAAAAEAAAIBAAADAQAAAAEEAACBBAABAQQAAYEEAAIBBAACQQQ=='\n",
    "b'eJxjYAADBwaGBiA+AMQMjgwMCkDsAMQJQNwAxBMcAVbKBVc='\n",
    "```\n",
    "\n",
    "Note how encoding the data with 64 bit precision results in an output\n",
    "string of length $108$ characters that is about twice as long compared\n",
    "to encoding the data with 32 bit precision which is of length $56$\n",
    "characters. However, this difference disappears when zlib compression is\n",
    "used and the resulting string is shorter still.\n",
    "\n",
    "## Numpress Encoding\n",
    "\n",
    "We can do even better, using the `numpress <numpress>` compression. The\n",
    "numpress algorithm uses lossy compression, similar to jpeg compression,\n",
    "which is capable of compressing data even further but at the cost of not\n",
    "being able to recover the original input data exactly:"
   ],
   "id": "a803443d-6a20-4fb5-9ffc-38c5dfe08057"
  },
  {
   "cell_type": "code",
   "execution_count": null,
   "metadata": {
    "linenos": ""
   },
   "outputs": [],
   "source": [
    "data = [0.0, 2.0, 4.0, 6.0, 8.0, 10.0, 12.0, 14.0, 16.0, 18.0 + 1e-8]\n",
    "print(data)\n",
    "r = []\n",
    "\n",
    "c = NumpressConfig()\n",
    "c.np_compression = MSNumpressCoder.NumpressCompression.LINEAR\n",
    "res = String()\n",
    "MSNumpressCoder().encodeNP(data, res, False, c)\n",
    "print(res)\n",
    "\n",
    "MSNumpressCoder().decodeNP(res, r, False, c)\n",
    "print(r)\n",
    "\n",
    "c.np_compression = MSNumpressCoder.NumpressCompression.PIC\n",
    "MSNumpressCoder().encodeNP(data, res, False, c)\n",
    "print(res)\n",
    "\n",
    "MSNumpressCoder().decodeNP(res, r, False, c)\n",
    "print(r)"
   ],
   "id": "1e35da55-e2e4-4576-b59c-63191753b965"
  },
  {
   "cell_type": "markdown",
   "metadata": {},
   "source": [
    "``` output\n",
    "[0.0, 2.0, 4.0, 6.0, 8.0, 10.0, 12.0, 14.0, 16.0, 18.00000001]\n",
    "b'Qc////+AAAAAAAAA/v//f4iIiIew'\n",
    "[0.0, 2.0, 4.0, 6.0, 8.0, 10.0, 12.0, 14.0, 16.0, 18.00000001024455]\n",
    "b'hydHZ4enx+YBYhA='\n",
    "[0.0, 2.0, 4.0, 6.0, 8.0, 10.0, 12.0, 14.0, 16.0, 18.0]\n",
    "```\n",
    "\n",
    "Note how the lossy numpress compression leads to even shorter data, with\n",
    "16 characters for PIC compression and 28 characters for linear\n",
    "compression. This makes the encoding much more efficient than lossless\n",
    "encoding that we have discussed above, however this is at the price of\n",
    "accuracy.\n",
    "\n",
    "Different numpress compression schemes result in different accuracy, the\n",
    "LINEAR compression scheme introduced an inaccuracy of 10e-10 while the\n",
    "PIC (positive integer compression) can only store positive integers and\n",
    "results in greater loss of accuracy."
   ],
   "id": "153e2d9d-964c-477e-8df5-de78cee3bd17"
  }
 ],
 "nbformat": 4,
 "nbformat_minor": 5,
 "metadata": {}
}
