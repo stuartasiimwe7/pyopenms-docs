{
 "cells": [
  {
   "cell_type": "markdown",
   "metadata": {},
   "source": [
    "# Algorithms\n",
    "\n",
    "Many signal processing algorithms follow a similar pattern in OpenMS.\n",
    "\n",
    "``` output\n",
    "algorithm = NameOfTheAlgorithmClass()\n",
    "exp = MSExperiment()\n",
    "# populate exp, for example load from file\n",
    "algorithm.filterExperiment(exp)\n",
    "```\n",
    "\n",
    "In many cases, the processing algorithms have a set of parameters that\n",
    "can be adjusted. These are accessible through\n",
    ":py`~.Algorithm.getParameters()` and yield a :py`~.Param` object (see\n",
    "[Parameter handling](parameter_handling.ipynb)) which can be\n",
    "manipulated. After changing parameters, one can use\n",
    ":py`~.Algorithm.setParameters()` to propagate the new parameters to the\n",
    "algorithm:\n",
    "\n",
    "``` output\n",
    "algorithm = NameOfTheAlgorithmClass()\n",
    "param = algorithm.getParameters()\n",
    "param.setValue(\"algo_parameter\", \"new_value\")\n",
    "algorithm.setParameters(param)\n",
    "\n",
    "exp = MSExperiment()\n",
    "# populate exp, for example load from file\n",
    "algorithm.filterExperiment(exp)\n",
    "```\n",
    "\n",
    "Since they work on a single :py`~.MSExperiment` object, little input is\n",
    "needed to execute a filter directly on the data. Examples of filters\n",
    "that follow this pattern are :py`~.GaussFilter`,\n",
    ":py`~.SavitzkyGolayFilter` as well as the spectral filters\n",
    ":py`~.BernNorm`, :py`~.MarkerMower`, :py`~.NLargest`, :py`~.Normalizer`,\n",
    ":py`~.ParentPeakMower`, :py`~.Scaler`, :py`~.SpectraMerger`,\n",
    ":py`~.SqrtMower`, :py`~.ThresholdMower`, :py`~.WindowMower`.\n",
    "\n",
    "Using the same example file as before, we can execute a\n",
    ":py`~.GaussFilter` on our test data as follows:"
   ],
   "id": "70505ba2-1c28-4ea1-b430-17a40725ed21"
  },
  {
   "cell_type": "code",
   "execution_count": null,
   "metadata": {
    "linenos": ""
   },
   "outputs": [],
   "source": [
    "from pyopenms import *\n",
    "from urllib.request import urlretrieve\n",
    "\n",
    "gh = \"https://raw.githubusercontent.com/OpenMS/pyopenms-docs/master\"\n",
    "urlretrieve(gh + \"/src/data/tiny.mzML\", \"test.mzML\")\n",
    "\n",
    "exp = MSExperiment()\n",
    "gf = GaussFilter()\n",
    "exp = MSExperiment()\n",
    "MzMLFile().load(\"test.mzML\", exp)\n",
    "gf.filterExperiment(exp)\n",
    "# MzMLFile().store(\"test.filtered.mzML\", exp)"
   ],
   "id": "ae1a85cf-5d5a-4f1c-a6d1-56bbf59f1f52"
  }
 ],
 "nbformat": 4,
 "nbformat_minor": 5,
 "metadata": {}
}
