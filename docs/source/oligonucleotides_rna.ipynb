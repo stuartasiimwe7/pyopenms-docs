{
 "cells": [
  {
   "cell_type": "markdown",
   "metadata": {},
   "source": [
    "# Oligonucleotides: RNA\n",
    "\n",
    "## Nucleic Acid Sequences\n",
    "\n",
    "OpenMS also supports the representation of RNA oligonucleotides using\n",
    "the :py`~.NASequence` class:"
   ],
   "id": "0118c9f4-396a-4026-ae22-c6bd0702009c"
  },
  {
   "cell_type": "code",
   "execution_count": null,
   "metadata": {
    "linenos": ""
   },
   "outputs": [],
   "source": [
    "from pyopenms import *\n",
    "\n",
    "oligo = NASequence.fromString(\"AAUGCAAUGG\")\n",
    "prefix = oligo.getPrefix(4)\n",
    "suffix = oligo.getSuffix(4)\n",
    "\n",
    "print(oligo)\n",
    "print(prefix)\n",
    "print(suffix)\n",
    "print()\n",
    "\n",
    "print(\"Oligo length\", oligo.size())\n",
    "print(\"Total precursor mass\", oligo.getMonoWeight())\n",
    "print(\n",
    "    \"y1+ ion mass of\",\n",
    "    str(prefix),\n",
    "    \":\",\n",
    "    prefix.getMonoWeight(NASequence.NASFragmentType.YIon, 1),\n",
    ")\n",
    "print()\n",
    "\n",
    "seq_formula = oligo.getFormula()\n",
    "print(\"RNA Oligo\", oligo, \"has molecular formula\", seq_formula)\n",
    "print(\"=\" * 35)\n",
    "print()\n",
    "\n",
    "isotopes = seq_formula.getIsotopeDistribution(CoarseIsotopePatternGenerator(6))\n",
    "for iso in isotopes.getContainer():\n",
    "    print(\"Isotope\", iso.getMZ(), \":\", iso.getIntensity())"
   ],
   "id": "c37bac16-e329-4a9b-9989-16f006f30880"
  },
  {
   "cell_type": "markdown",
   "metadata": {},
   "source": [
    "Which will output\n",
    "\n",
    "``` output\n",
    "AAUGCAAUGG\n",
    "AAUG\n",
    "AUGG\n",
    "\n",
    "Oligo length 10\n",
    "Total precursor mass 3206.4885302061\n",
    "y1+ ion mass of AAUG : 1248.2298440331\n",
    "\n",
    "RNA Oligo AAUGCAAUGG has molecular formula C97H119N42O66P9\n",
    "===================================\n",
    "\n",
    "Isotope 3206.4885302061 : 0.25567981600761414\n",
    "Isotope 3207.4918850439003 : 0.31783154606819153\n",
    "Isotope 3208.4952398817004 : 0.23069815337657928\n",
    "Isotope 3209.4985947195 : 0.12306403368711472\n",
    "Isotope 3210.5019495573 : 0.053163252770900726\n",
    "Isotope 3211.5053043951 : 0.01956319250166416\n",
    "```\n",
    "\n",
    "The :py`~.NASequence` object also allows iterations directly in Python:"
   ],
   "id": "70612c57-0c01-461a-925c-2bfa2d19a21f"
  },
  {
   "cell_type": "code",
   "execution_count": null,
   "metadata": {
    "linenos": ""
   },
   "outputs": [],
   "source": [
    "oligo = NASequence.fromString(\"AAUGCAAUGG\")\n",
    "print(\n",
    "    \"The oligonucleotide\", str(oligo), \"consists of the following nucleotides:\"\n",
    ")\n",
    "for ribo in oligo:\n",
    "    print(ribo.getName())"
   ],
   "id": "7b6fb2ab-e1f7-4fcf-93e2-665424b70c9f"
  },
  {
   "cell_type": "markdown",
   "metadata": {},
   "source": [
    "### Fragment Ions\n",
    "\n",
    "Similarly to before for amino acid sequences, we can also generate\n",
    "internal fragment ions:"
   ],
   "id": "69d7a6a8-f81d-448e-b427-c41f215ddaea"
  },
  {
   "cell_type": "code",
   "execution_count": null,
   "metadata": {
    "linenos": ""
   },
   "outputs": [],
   "source": [
    "oligo = NASequence.fromString(\"AAUGCAAUGG\")\n",
    "suffix = oligo.getSuffix(4)\n",
    "\n",
    "oligo.size()\n",
    "oligo.getMonoWeight()\n",
    "\n",
    "charge = 2\n",
    "mass = suffix.getMonoWeight(NASequence.NASFragmentType.WIon, charge)\n",
    "w4_formula = suffix.getFormula(NASequence.NASFragmentType.WIon, charge)\n",
    "mz = mass / charge\n",
    "\n",
    "print(\"=\" * 35)\n",
    "print(\"RNA Oligo w4++ ion\", suffix, \"has mz\", mz)\n",
    "print(\"RNA Oligo w4++ ion\", suffix, \"has molecular formula\", w4_formula)"
   ],
   "id": "8897914d-9a53-4bbc-ba55-0b31f9865a3b"
  },
  {
   "cell_type": "markdown",
   "metadata": {},
   "source": [
    "## Modified Oligonucleotides\n",
    "\n",
    "Modified nucleotides can also be represented by the\n",
    ":py`~.Ribonucleotide` class and are specified using a unique string\n",
    "identifier present in the :py`~.RibonucleotideDB` in square brackets.\n",
    "For example, `[m1A]` represents 1-methyl-adenosine. We can create a\n",
    ":py`~.NASequence` object by parsing a modified sequence as follows:"
   ],
   "id": "46de3e9e-1095-4de1-b6cc-6fb34d4be6ec"
  },
  {
   "cell_type": "code",
   "execution_count": null,
   "metadata": {
    "linenos": ""
   },
   "outputs": [],
   "source": [
    "oligo_mod = NASequence.fromString(\"A[m1A][Gm]A\")\n",
    "seq_formula = oligo_mod.getFormula()\n",
    "print(\n",
    "    \"RNA Oligo\",\n",
    "    oligo_mod,\n",
    "    \"has molecular formula\",\n",
    "    seq_formula,\n",
    "    \"and length\",\n",
    "    oligo_mod.size(),\n",
    ")\n",
    "print(\"=\" * 35)\n",
    "\n",
    "oligo_list = [oligo_mod[i].getOrigin() for i in range(oligo_mod.size())]\n",
    "print(\n",
    "    \"RNA Oligo\",\n",
    "    oligo_mod.toString(),\n",
    "    \"has unmodified sequence\",\n",
    "    \"\".join(oligo_list),\n",
    ")\n",
    "\n",
    "r = oligo_mod[1]\n",
    "r.getName()\n",
    "r.getHTMLCode()\n",
    "r.getOrigin()\n",
    "\n",
    "for i in range(oligo_mod.size()):\n",
    "    print(oligo_mod[i].isModified())"
   ],
   "id": "28c2e285-574f-4dd0-be5e-64311952ee92"
  },
  {
   "cell_type": "markdown",
   "metadata": {},
   "source": [
    "## DNA, RNA and Protein\n",
    "\n",
    "We can also work with DNA and RNA sequences in combination with the\n",
    "BioPython library (you can install BioPython with\n",
    "`pip install biopython`):\n",
    "\n",
    "``` pseudocode\n",
    "from Bio.Seq import Seq\n",
    "from Bio.Alphabet import IUPAC\n",
    "bsa = FASTAEntry()\n",
    "bsa.sequence = 'ATGAAGTGGGTGACTTTTATTTCTCTTCTCCTTCTCTTCAGCTCTGCTTATTCCAGGGGTGTGTTTCGT'\n",
    "bsa.description = \"BSA Bovine Albumin (partial sequence)\"\n",
    "bsa.identifier = \"BSA\"\n",
    "\n",
    "entries = [bsa]\n",
    "\n",
    "f = FASTAFile()\n",
    "f.store(\"example_dna.fasta\", entries)\n",
    "\n",
    "coding_dna = Seq(bsa.sequence, IUPAC.unambiguous_dna)    \n",
    "coding_rna = coding_dna.transcribe()\n",
    "protein_seq = coding_rna.translate()\n",
    "\n",
    "oligo = NASequence.fromString(str(coding_rna))\n",
    "aaseq = AASequence.fromString(str(protein_seq))\n",
    "\n",
    "print(\"The RNA sequence\", str(oligo), \"has mass\", oligo.getMonoWeight(), \"and \\n\"\n",
    "  \"translates to the protein sequence\", str(aaseq), \"which has mass\", aaseq.getMonoWeight() )\n",
    "```"
   ],
   "id": "19446f55-3ed4-4cfd-9d0c-15bcbc880644"
  }
 ],
 "nbformat": 4,
 "nbformat_minor": 5,
 "metadata": {}
}
