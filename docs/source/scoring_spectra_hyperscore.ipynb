{
 "cells": [
  {
   "cell_type": "markdown",
   "metadata": {},
   "source": [
    "# Scoring Spectra with HyperScore\n",
    "\n",
    "In the chapter on spectrum alignment we showed how to determine matching\n",
    "peaks between theoretical and experimental spectra. For many use cases\n",
    "we might actually not be interested in obtaining the list of matched\n",
    "peaks but would like to have a simple, single score that indicates how\n",
    "\"well\" the two spectra matched. The :py`~.HyperScore` is a method to\n",
    "assign a score to `peptide-spectrum matches<peptide-spectrum match>`.\n",
    "\n",
    "## Background\n",
    "\n",
    ":py`~.HyperScore` computes the (ln transformed) `HyperScore` of\n",
    "theoretical spectrum, calculated from a peptide/oligonucleotide\n",
    "sequence, with an experimental spectrum, loaded from an `mzML` file.\n",
    "\n",
    "> 1.  the dot product of peak intensities between matching peaks in\n",
    ">     experimental and theoretical spectrum is calculated\n",
    "> 2.  the :py`~.HyperScore` is calculated from the dot product by\n",
    ">     multiplying by factorials of matching b- and y-ions"
   ],
   "id": "7ea1a4d8-f160-497e-96ae-84d1f55d79d5"
  },
  {
   "cell_type": "code",
   "execution_count": null,
   "metadata": {},
   "outputs": [],
   "source": [
    "from urllib.request import urlretrieve\n",
    "from pyopenms import *\n",
    "\n",
    "gh = \"https://raw.githubusercontent.com/OpenMS/pyopenms-docs/master\"\n",
    "urlretrieve(gh + \"/src/data/SimpleSearchEngine_1.mzML\", \"searchfile.mzML\")"
   ],
   "id": "78826ffd-100b-4059-9a09-abd4df8d2c35"
  },
  {
   "cell_type": "markdown",
   "metadata": {},
   "source": [
    "## Generate a Theoretical Spectrum\n",
    "\n",
    "We now use the :py`~.TheoreticalSpectrumGenerator` to generate a\n",
    "theoretical spectrum for the sequence we are interested in,\n",
    "`RPGADSDIGGFGGLFDLAQAGFR`, and compare the peaks to a spectra from our\n",
    "file."
   ],
   "id": "3a5c0eab-c21a-4d99-a8fa-c756a21e1dfd"
  },
  {
   "cell_type": "code",
   "execution_count": null,
   "metadata": {},
   "outputs": [],
   "source": [
    "tsg = TheoreticalSpectrumGenerator()\n",
    "thspec = MSSpectrum()\n",
    "p = Param()\n",
    "p.setValue(\"add_metainfo\", \"true\")\n",
    "tsg.setParameters(p)\n",
    "peptide = AASequence.fromString(\"RPGADSDIGGFGGLFDLAQAGFR\")\n",
    "tsg.getSpectrum(thspec, peptide, 1, 1)\n",
    "# Iterate over annotated ions and their masses\n",
    "for ion, peak in zip(thspec.getStringDataArrays()[0], thspec):\n",
    "    print(ion, peak.getMZ())\n",
    "\n",
    "e = MSExperiment()\n",
    "MzMLFile().load(\"searchfile.mzML\", e)\n",
    "spectrum_of_interest = e[2]\n",
    "print(\"Spectrum native id\", spectrum_of_interest.getNativeID())\n",
    "mz, i = spectrum_of_interest.get_peaks()\n",
    "peaks = [(mz, i) for mz, i in zip(mz, i) if i > 1500 and mz > 300]\n",
    "for peak in peaks:\n",
    "    print(peak[0], \"mz\", peak[1], \"int\")"
   ],
   "id": "0bee5031-5ec1-4bd4-89da-f8cb7ed14711"
  },
  {
   "cell_type": "markdown",
   "metadata": {},
   "source": [
    "Comparing the spectrum and the experimental spectrum for\n",
    "`RPGADSDIGGFGGLFDLAQAGFR` we can easily see that the most abundant ions\n",
    "in the spectrum are `y8` ($877.452$ m/z), `b10` ($926.432$), `y9`\n",
    "($1024.522$ m/z) and `b13` ($1187.544$ m/z).\n",
    "\n",
    "## Getting a Score\n",
    "\n",
    "We now run :py`~.HyperScore` to compute the similarity of the\n",
    "theoretical spectrum and the experimental spectrum and print the result"
   ],
   "id": "78bf20e7-5a53-4d4e-88ae-e0a1d302e68b"
  },
  {
   "cell_type": "code",
   "execution_count": null,
   "metadata": {},
   "outputs": [],
   "source": [
    "hscore = HyperScore()\n",
    "fragment_mass_tolerance = 5.0\n",
    "is_tol_in_ppm = True\n",
    "result = hscore.compute(\n",
    "    fragment_mass_tolerance, is_tol_in_ppm, spectrum_of_interest, thspec\n",
    ")\n",
    "result"
   ],
   "id": "15a2d0a5-41a4-4d45-a9df-446c0cc6be7d"
  },
  {
   "cell_type": "markdown",
   "metadata": {},
   "source": [
    "If we didn't know ahead of time which spectrum was a match we can loop through all the spectra from our file,  \n",
    "calculate scores for all of them, and print the result:"
   ],
   "id": "e7ec59e7-1e39-4c72-b331-3fb116061dfb"
  },
  {
   "cell_type": "code",
   "execution_count": null,
   "metadata": {},
   "outputs": [],
   "source": [
    "for f in e:\n",
    "    score = hscore.compute(fragment_mass_tolerance, is_tol_in_ppm, f, thspec)\n",
    "    print(f.getNativeID() + \":\" + str(score))"
   ],
   "id": "2a6b43d2-0556-48c5-a690-c6848415bd0e"
  }
 ],
 "nbformat": 4,
 "nbformat_minor": 5,
 "metadata": {}
}
