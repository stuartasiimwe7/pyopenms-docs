{
 "cells": [
  {
   "cell_type": "markdown",
   "metadata": {},
   "source": [
    "# Support\n",
    "\n",
    "## Feature Requests\n",
    "\n",
    "pyOpenMS is an evolving project. We are happy to learn about missing\n",
    "features you would like to see in pyOpenMS.\n",
    "\n",
    "Feel free to open an issue on [GitHub issue](https://github.com/OpenMS/OpenMS/issues)  \n",
    "to request a novel feature.\n",
    "\n",
    "## Troubleshooting\n",
    "\n",
    "If you encounter a problem running pyOpenMS feel free to contact us by\n",
    "opening a [GitHub issue](https://github.com/OpenMS/OpenMS/issues) or the\n",
    "[OpenMS Gitter chat channel](https://gitter.im/OpenMS/OpenMS/).\n",
    "\n",
    "Please provide information on what pyOpenMS version you have installed.\n",
    "You can check if importing pyOpenMS works and print your pyOpenMS\n",
    "version with:"
   ],
   "id": "9791b7aa-a266-49b8-b368-3c87d2b4fce3"
  },
  {
   "cell_type": "code",
   "execution_count": null,
   "metadata": {
    "linenos": ""
   },
   "outputs": [],
   "source": [
    "from pyopenms import *\n",
    "\n",
    "print(\"Version: \" + VersionInfo.getVersion())\n",
    "print(\"OpenMP: \" + str(OpenMSBuildInfo.isOpenMPEnabled()))\n",
    "print(\"Build type: \" + OpenMSBuildInfo.getBuildType())\n",
    "print(\"Architecture: \" + OpenMSOSInfo.getBinaryArchitecture())"
   ],
   "id": "689fb01c-85dd-401f-8000-8bc66ad47cce"
  }
 ],
 "nbformat": 4,
 "nbformat_minor": 5,
 "metadata": {}
}
